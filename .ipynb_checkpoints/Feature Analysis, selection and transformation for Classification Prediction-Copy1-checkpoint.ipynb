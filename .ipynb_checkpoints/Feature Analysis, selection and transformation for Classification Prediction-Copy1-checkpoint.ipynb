{
 "cells": [
  {
   "cell_type": "code",
   "execution_count": 86,
   "metadata": {},
   "outputs": [],
   "source": [
    "import pandas as pd\n",
    "import numpy as np\n",
    "import json\n",
    "from IPython.display import display\n",
    "import pickle\n",
    "from tqdm import tqdm\n",
    "import matplotlib.pyplot as plt\n",
    "%matplotlib inline"
   ]
  },
  {
   "cell_type": "code",
   "execution_count": 333,
   "metadata": {},
   "outputs": [],
   "source": [
    "from sklearn.metrics import  accuracy_score,classification_report,roc_auc_score,log_loss,zero_one_loss,confusion_matrix\n",
    "def feature_plot(imp_features,X):\n",
    "    indices = np.argsort(imp_features)[::-1]\n",
    "    num_features=len(imp_features[imp_features>0])\n",
    "    columns = X.columns.values[indices][:num_features]\n",
    "    values=imp_features[indices][:num_features]\n",
    "\n",
    "    plt.figure(figsize = (15,5))\n",
    "    plt.title(\"Feature importances\")\n",
    "    plt.barh(range(num_features), values, align=\"center\")\n",
    "    plt.yticks(range(num_features), columns)\n",
    "    plt.ylim([ num_features,-1])\n",
    "    plt.show() \n",
    "\n",
    "def classification_metric(y_true,y_predict):\n",
    "    print('accuracy score',accuracy_score(y_true,y_predict))\n",
    "    print('roc_auc_score',roc_auc_score(y_true, y_predict))\n",
    "    print('log loss score',log_loss(y_true,y_predict))\n",
    "    print('zero_one_loss score',zero_one_loss(y_true,y_predict))\n",
    "    print('confusion_matrix',confusion_matrix(y_true,y_predict))\n",
    "    print(classification_report(y_true,y_predict))\n",
    "\n"
   ]
  },
  {
   "cell_type": "code",
   "execution_count": 87,
   "metadata": {
    "scrolled": true
   },
   "outputs": [],
   "source": [
    "processed_data=pickle.load(open('processed_data.p', \"rb\" ))\n",
    "processed_data=processed_data.sort_values(['date','player_name'])"
   ]
  },
  {
   "cell_type": "markdown",
   "metadata": {},
   "source": [
    "## remove additional fields:"
   ]
  },
  {
   "cell_type": "markdown",
   "metadata": {},
   "source": [
    "### Generate data options\n",
    "option 1: generate data by using the op and cp range\n",
    "         - combine data of the op range and determine if there is a cp output\n",
    "option 2: have a range for every record \n",
    "         - example: 1. looks at record+1 and if record within time range is true then identiyf whether it is a churned user."
   ]
  },
  {
   "cell_type": "markdown",
   "metadata": {},
   "source": [
    "#fields to consider:\n",
    "        #Hasgroup\n",
    "        #server\n",
    "            #bad server = churned user?\n",
    "            #appears like a long shot tho , the correlation!=causality idea"
   ]
  },
  {
   "cell_type": "code",
   "execution_count": 88,
   "metadata": {},
   "outputs": [
    {
     "data": {
      "text/plain": [
       "min_score              int64\n",
       "mean_score           float64\n",
       "max_score              int64\n",
       "games_played           int64\n",
       "win_ratio            float64\n",
       "hours_played         float64\n",
       "avg_game_duration    float64\n",
       "avg_player_degree    float64\n",
       "avg_player_points    float64\n",
       "avg_team_score       float64\n",
       "max_team_score       float64\n",
       "avg_time_limit       float64\n",
       "max_duration         float64\n",
       "min_duration         float64\n",
       "max_player_degree      int64\n",
       "min_player_degree      int64\n",
       "avg_dist_visit       float64\n",
       "max_dist_visit       float64\n",
       "min_dist_visit       float64\n",
       "has_group              int64\n",
       "player                object\n",
       "churned                int64\n",
       "dtype: object"
      ]
     },
     "execution_count": 88,
     "metadata": {},
     "output_type": "execute_result"
    }
   ],
   "source": [
    "data.dtypes"
   ]
  },
  {
   "cell_type": "code",
   "execution_count": 89,
   "metadata": {
    "scrolled": true
   },
   "outputs": [
    {
     "data": {
      "text/plain": [
       "index            0\n",
       "date             0\n",
       "duration         0\n",
       "finished         0\n",
       "group            0\n",
       "server           0\n",
       "timeLimit        0\n",
       "player_degree    0\n",
       "player_name      0\n",
       "player_points    0\n",
       "player_score     0\n",
       "team_score       0\n",
       "win              0\n",
       "dtype: int64"
      ]
     },
     "execution_count": 89,
     "metadata": {},
     "output_type": "execute_result"
    }
   ],
   "source": [
    "processed_data.isnull().sum()"
   ]
  },
  {
   "cell_type": "code",
   "execution_count": 286,
   "metadata": {
    "scrolled": true
   },
   "outputs": [
    {
     "name": "stderr",
     "output_type": "stream",
     "text": [
      "100%|████████████████████████████████████████████████████████████████████████████| 14629/14629 [05:37<00:00, 43.39it/s]\n"
     ]
    }
   ],
   "source": [
    "def get_field_summary(data):\n",
    "    new_data=[]\n",
    "    \n",
    "    #min_score\n",
    "    new_data.append(data['player_score'].min())\n",
    "    #mean_score\n",
    "    new_data.append(data['player_score'].mean())\n",
    "    #max_score\n",
    "    new_data.append(data['player_score'].max())\n",
    "    \n",
    "    #sd_score\n",
    "    new_data.append(data['player_score'].std())\n",
    "    #total_games_played\n",
    "    games_played=data.shape[0]\n",
    "    new_data.append(games_played)\n",
    "    #games won\n",
    "    new_data.append(data['win'].sum())\n",
    "    #win_ratio\n",
    "    new_data.append(data['win'].sum()/games_played)\n",
    "    #SECONDS,total_hours_played\n",
    "    new_data.append(data['duration'].sum()/60)\n",
    "    #avg_game_duration(seconds)\n",
    "    new_data.append(data['duration'].mean()/60)\n",
    "    #avg_player_degree(~~)\n",
    "    new_data.append(data['player_degree'].mean())\n",
    "    #avg_player_points(rank)\n",
    "    new_data.append(data['player_points'].mean())\n",
    "    #max_player_points(rank)\n",
    "    new_data.append(data['player_points'].max())\n",
    "    #avg_team_score\n",
    "    new_data.append(data['team_score'].mean())\n",
    "    #max_team_score\n",
    "    new_data.append(data['team_score'].max())\n",
    "    #avg_time_limit\n",
    "    new_data.append(data['timeLimit'].mean())\n",
    "    \n",
    "    #max_duration\n",
    "    new_data.append(data['duration'].max()/60)\n",
    "    #min_duration\n",
    "    new_data.append(data['duration'].min()/60)\n",
    "    #max_player_degree\n",
    "    new_data.append(data['player_degree'].max())\n",
    "    #min_player_degree\n",
    "    new_data.append(data['player_degree'].min())\n",
    "   \n",
    "    #avg_dist_visit\n",
    "    \n",
    "    distance_data=data['date'].diff().dt.total_seconds()\n",
    "    \n",
    "    \n",
    "    #avg_dist_visit=data['date'].diff().dt.total_seconds().mean()\n",
    "    avg_dist_visit=distance_data.mean()\n",
    "    avg_dist_visit/=60\n",
    "    new_data.append(0 if np.isnan(avg_dist_visit) else avg_dist_visit)\n",
    "\n",
    "    #max_dist_visit\n",
    "    max_dist_visit=distance_data.max()\n",
    "    max_dist_visit/=60\n",
    "    new_data.append(0 if np.isnan(max_dist_visit) else max_dist_visit)\n",
    "    \n",
    "    #min_dist_visit\n",
    "    min_dist_visit=distance_data.min()\n",
    "    min_dist_visit/=60\n",
    "    new_data.append(0 if np.isnan(min_dist_visit) else min_dist_visit)    \n",
    "    \n",
    "    #std_dist_visit\n",
    "    std_dist_visit=distance_data.std()\n",
    "    std_dist_visit/=60\n",
    "    new_data.append(0 if np.isnan(std_dist_visit) else std_dist_visit)\n",
    "    #has_group\n",
    "    has_group=(data['group'].isin(['redacted']).sum())!=0\n",
    "    new_data.append(1 if has_group else 0)\n",
    "    \n",
    "    return new_data\n",
    "    \n",
    "def generate_data(data,op=5,cp=10):\n",
    "    col_names =  ['min_score', 'mean_score', 'max_score','std_score','games_played','games_won','win_ratio','hours_played',\n",
    "                  'avg_game_duration'\n",
    "                  ,'avg_player_degree','avg_player_points','max_player_points','avg_team_score','max_team_score','avg_time_limit',\n",
    "                  'max_duration','min_duration','max_player_degree','min_player_degree','avg_dist_visit','max_dist_visit',\n",
    "                  'min_dist_visit','std_dist_visit','has_group',\n",
    "                  \n",
    "                  \n",
    "                  'player','churned']\n",
    "    \n",
    "    new_data=[]\n",
    "    for x in tqdm(data['player_name'].unique()):\n",
    "    #for x in set(processed_data[:50].player_name):\n",
    "        player_data=data.loc[data['player_name']==x]\n",
    "        \n",
    "        op_min_date=player_data['date'].min()\n",
    "        op_max_date=op_min_date+ pd.DateOffset(days=op)\n",
    "        cp_max_date=op_max_date+ pd.DateOffset(days=cp)\n",
    "        \n",
    "        op_data=player_data.loc[(player_data['date'] >= op_min_date) & (player_data['date'] <= op_max_date)]\n",
    "        \n",
    "        \n",
    "        cp_data=player_data.loc[(player_data['date'] > op_max_date) & (player_data['date'] <= cp_max_date)]\n",
    "        summary=get_field_summary(op_data)\n",
    "        \n",
    "        summary.append(x)\n",
    "        summary.append(1 if cp_data.empty else 0 )\n",
    "        \n",
    "        new_data.append(summary)\n",
    "        #display(player_data)\n",
    "    return pd.DataFrame(new_data,columns=col_names)\n",
    "    \n",
    "data=generate_data(processed_data.copy())"
   ]
  },
  {
   "cell_type": "code",
   "execution_count": 287,
   "metadata": {},
   "outputs": [],
   "source": [
    "pickle.dump(data,open('checkpoint_processed_data.p', \"wb\" ))"
   ]
  },
  {
   "cell_type": "code",
   "execution_count": 357,
   "metadata": {},
   "outputs": [],
   "source": [
    "data=pickle.load(open('checkpoint_processed_data.p','rb'))"
   ]
  },
  {
   "cell_type": "code",
   "execution_count": 366,
   "metadata": {},
   "outputs": [],
   "source": [
    "columns=['mean_score', 'max_score','std_score','games_played','games_won','hours_played',\n",
    "                  'avg_game_duration'\n",
    "                  ,'avg_player_degree','avg_player_points','max_player_points','min_duration',\n",
    "                 'max_player_degree','avg_dist_visit','max_dist_visit',\n",
    "                  'player','churned']\n",
    "\n",
    "data=data[columns]"
   ]
  },
  {
   "cell_type": "code",
   "execution_count": 367,
   "metadata": {
    "scrolled": true
   },
   "outputs": [],
   "source": [
    "from sklearn.preprocessing import MinMaxScaler,StandardScaler\n",
    "def scale_numerical_data(data,scale=False):\n",
    "    if scale: \n",
    "        scaler=StandardScaler()\n",
    "        columns_to_encode=list(data.select_dtypes(include=['float64','int64']))\n",
    "        columns_to_encode.remove('churned')\n",
    "\n",
    "\n",
    "       # skewed=['avg_game_duration','avg_dist_visit','avg_player_degree','avg_team_score','has_group',\n",
    "       #         'max_duration','max_dist_visit']\n",
    "       # features_log_transformed = pd.DataFrame(data = data)\n",
    "       # features_log_transformed[skewed] = data[skewed].apply(lambda x: np.log(x + 1))\n",
    "\n",
    "        features_transform = pd.DataFrame(data = data)\n",
    "        features_transform[columns_to_encode] = scaler.fit_transform(data[columns_to_encode])\n",
    "        return features_transform\n",
    "    else:\n",
    "        return data\n",
    "data=scale_numerical_data(data,True)"
   ]
  },
  {
   "cell_type": "code",
   "execution_count": 368,
   "metadata": {
    "scrolled": true
   },
   "outputs": [
    {
     "data": {
      "image/png": "[encoded data removed]",
      "text/plain": [
       "<Figure size 1080x720 with 16 Axes>"
      ]
     },
     "metadata": {},
     "output_type": "display_data"
    }
   ],
   "source": [
    "data.hist(figsize=(15,10));"
   ]
  },
  {
   "cell_type": "code",
   "execution_count": 369,
   "metadata": {
    "scrolled": true
   },
   "outputs": [],
   "source": [
    "#data.head(6)\n",
    "data=data.fillna(0)\n",
    "X=data.drop(['churned','player'],axis=1)\n",
    "y=data['churned']"
   ]
  },
  {
   "cell_type": "code",
   "execution_count": 370,
   "metadata": {
    "scrolled": true
   },
   "outputs": [
    {
     "data": {
      "image/png": "[encoded data removed]",
      "text/plain": [
       "<Figure size 432x288 with 1 Axes>"
      ]
     },
     "metadata": {},
     "output_type": "display_data"
    },
    {
     "name": "stdout",
     "output_type": "stream",
     "text": [
      "churned              1.000000\n",
      "min_duration         0.171545\n",
      "avg_game_duration   -0.042365\n",
      "mean_score          -0.048842\n",
      "avg_player_points   -0.102683\n",
      "avg_player_degree   -0.180324\n",
      "max_player_degree   -0.199885\n",
      "std_score           -0.213055\n",
      "max_score           -0.213474\n",
      "games_won           -0.235773\n",
      "max_player_points   -0.261579\n",
      "games_played        -0.294096\n",
      "hours_played        -0.294475\n",
      "avg_dist_visit      -0.308806\n",
      "max_dist_visit      -0.485456\n",
      "Name: churned, dtype: float64\n"
     ]
    }
   ],
   "source": [
    "import matplotlib.pyplot as plt\n",
    "corr = data.corr()\n",
    "churn_corr=corr.sort_values('churned',ascending=True)\n",
    "churn_corr=churn_corr['churned']\n",
    "churn_corr.plot('barh')\n",
    "plt.show();\n",
    "\n",
    "churn_corr=corr.sort_values('churned',ascending=False)\n",
    "print(churn_corr['churned'])"
   ]
  },
  {
   "cell_type": "code",
   "execution_count": 371,
   "metadata": {},
   "outputs": [
    {
     "name": "stdout",
     "output_type": "stream",
     "text": [
      "xtrain 11703\n",
      "x_test 2926\n"
     ]
    }
   ],
   "source": [
    "from sklearn.cross_validation import train_test_split\n",
    "random_state=42\n",
    "X=X.drop(['games_won'],axis=1)\n",
    "X_train,X_test,y_train,y_test=train_test_split(X,y,test_size=0.2,random_state=random_state)\n",
    "\n",
    "print('xtrain',X_train.shape[0])\n",
    "print('x_test',X_test.shape[0])"
   ]
  },
  {
   "cell_type": "code",
   "execution_count": 372,
   "metadata": {},
   "outputs": [
    {
     "name": "stdout",
     "output_type": "stream",
     "text": [
      "accuracy score 0.7746257433864242\n",
      "roc_auc_score 0.7360724562536333\n",
      "log loss score 7.784270646879334\n",
      "zero_one_loss score 0.2253742566135758\n",
      "confusion_matrix [[3172 2188]\n",
      " [1109 8160]]\n",
      "             precision    recall  f1-score   support\n",
      "\n",
      "          0       0.74      0.59      0.66      5360\n",
      "          1       0.79      0.88      0.83      9269\n",
      "\n",
      "avg / total       0.77      0.77      0.77     14629\n",
      "\n"
     ]
    }
   ],
   "source": [
    "from sklearn.linear_model import LogisticRegression\n",
    "clf=LogisticRegression()\n",
    "clf.fit(X,y)\n",
    "pred=clf.predict(X)\n",
    "classification_metric(y,pred)"
   ]
  },
  {
   "cell_type": "code",
   "execution_count": 373,
   "metadata": {
    "scrolled": false
   },
   "outputs": [
    {
     "name": "stdout",
     "output_type": "stream",
     "text": [
      "classifier:  RandomForestClassifier\n",
      "accuracy score 0.7498291182501708\n",
      "roc_auc_score 0.7310836712738568\n",
      "log loss score 8.640695616725637\n",
      "zero_one_loss score 0.25017088174982915\n",
      "confusion_matrix [[ 709  364]\n",
      " [ 368 1485]]\n",
      "             precision    recall  f1-score   support\n",
      "\n",
      "          0       0.66      0.66      0.66      1073\n",
      "          1       0.80      0.80      0.80      1853\n",
      "\n",
      "avg / total       0.75      0.75      0.75      2926\n",
      "\n",
      "classifier:  GradientBoostingClassifier\n",
      "accuracy score 0.7792207792207793\n",
      "roc_auc_score 0.7484047681676875\n",
      "log loss score 7.625551808783253\n",
      "zero_one_loss score 0.22077922077922074\n",
      "confusion_matrix [[ 679  394]\n",
      " [ 252 1601]]\n",
      "             precision    recall  f1-score   support\n",
      "\n",
      "          0       0.73      0.63      0.68      1073\n",
      "          1       0.80      0.86      0.83      1853\n",
      "\n",
      "avg / total       0.78      0.78      0.78      2926\n",
      "\n",
      "classifier:  AdaBoostClassifier\n",
      "accuracy score 0.7740943267259057\n",
      "roc_auc_score 0.7457303312579937\n",
      "log loss score 7.80261129229031\n",
      "zero_one_loss score 0.22590567327409428\n",
      "confusion_matrix [[ 686  387]\n",
      " [ 274 1579]]\n",
      "             precision    recall  f1-score   support\n",
      "\n",
      "          0       0.71      0.64      0.67      1073\n",
      "          1       0.80      0.85      0.83      1853\n",
      "\n",
      "avg / total       0.77      0.77      0.77      2926\n",
      "\n"
     ]
    }
   ],
   "source": [
    "from sklearn.tree import DecisionTreeClassifier\n",
    "from sklearn.svm import SVC\n",
    "from sklearn.ensemble import RandomForestClassifier,GradientBoostingClassifier,AdaBoostClassifier\n",
    "from sklearn.linear_model import SGDClassifier\n",
    "from sklearn.neural_network import MLPClassifier\n",
    "from sklearn.neighbors import KNeighborsClassifier\n",
    "#clf_A = DecisionTreeClassifier(random_state=random_state)\n",
    "clf_B = RandomForestClassifier(random_state=random_state)\n",
    "clf_C = GradientBoostingClassifier(random_state=random_state)\n",
    "clf_D = AdaBoostClassifier(random_state=random_state)\n",
    "\n",
    "#clf_E = SVC(random_state=random_state)\n",
    "for clf in [\n",
    "    clf_B,clf_C,clf_D]:\n",
    "    print('classifier: ',clf.__class__.__name__)\n",
    "    clf.fit(X_train,y_train)\n",
    "    #imp_features=clf.feature_importances_\n",
    "    #feature_plot(imp_features,X)\n",
    "    pred=clf.predict(X_test)\n",
    "    classification_metric(y_test,pred)\n",
    "    "
   ]
  },
  {
   "cell_type": "code",
   "execution_count": 334,
   "metadata": {
    "scrolled": true
   },
   "outputs": [
    {
     "name": "stdout",
     "output_type": "stream",
     "text": [
      "                            OLS Regression Results                            \n",
      "==============================================================================\n",
      "Dep. Variable:                churned   R-squared:                       0.642\n",
      "Model:                            OLS   Adj. R-squared:                  0.641\n",
      "Method:                 Least Squares   F-statistic:                     1744.\n",
      "Date:                Sat, 30 Jun 2018   Prob (F-statistic):               0.00\n",
      "Time:                        02:37:15   Log-Likelihood:                -9913.7\n",
      "No. Observations:               14629   AIC:                         1.986e+04\n",
      "Df Residuals:                   14614   BIC:                         1.997e+04\n",
      "Df Model:                          15                                         \n",
      "Covariance Type:            nonrobust                                         \n",
      "=====================================================================================\n",
      "                        coef    std err          t      P>|t|      [0.025      0.975]\n",
      "-------------------------------------------------------------------------------------\n",
      "mean_score            0.0109      0.001     19.473      0.000       0.010       0.012\n",
      "max_score            -0.0047      0.001     -9.210      0.000      -0.006      -0.004\n",
      "std_score             0.0082      0.001     11.466      0.000       0.007       0.010\n",
      "games_played          0.0746      0.002     31.575      0.000       0.070       0.079\n",
      "games_won            -0.0121      0.003     -4.331      0.000      -0.018      -0.007\n",
      "hours_played         -0.0002   6.39e-06    -33.988      0.000      -0.000      -0.000\n",
      "avg_game_duration     0.0018    6.1e-05     30.134      0.000       0.002       0.002\n",
      "avg_player_degree     0.0003      0.000      0.794      0.427      -0.000       0.001\n",
      "avg_player_points    -0.0003      0.001     -0.359      0.719      -0.002       0.001\n",
      "max_player_points    -0.0023      0.001     -4.031      0.000      -0.003      -0.001\n",
      "min_duration         -0.0002   6.12e-05     -2.930      0.003      -0.000   -5.94e-05\n",
      "max_player_degree    -0.0001      0.000     -0.359      0.719      -0.001       0.001\n",
      "avg_dist_visit      4.78e-05   8.06e-06      5.929      0.000     3.2e-05    6.36e-05\n",
      "max_dist_visit       -0.0001   7.21e-06    -19.006      0.000      -0.000      -0.000\n",
      "std_dist_visit     3.794e-05   1.04e-05      3.660      0.000    1.76e-05    5.83e-05\n",
      "==============================================================================\n",
      "Omnibus:                      927.140   Durbin-Watson:                   1.546\n",
      "Prob(Omnibus):                  0.000   Jarque-Bera (JB):             1384.577\n",
      "Skew:                          -0.537   Prob(JB):                    2.20e-301\n",
      "Kurtosis:                       4.058   Cond. No.                     2.78e+03\n",
      "==============================================================================\n",
      "\n",
      "Warnings:\n",
      "[1] Standard Errors assume that the covariance matrix of the errors is correctly specified.\n",
      "[2] The condition number is large, 2.78e+03. This might indicate that there are\n",
      "strong multicollinearity or other numerical problems.\n"
     ]
    }
   ],
   "source": [
    "import statsmodels.api as sm\n",
    "#X2 = sm.add_constant(X)\n",
    "est = sm.OLS(y, X)\n",
    "est2 = est.fit()\n",
    "print(est2.summary())"
   ]
  },
  {
   "cell_type": "code",
   "execution_count": 300,
   "metadata": {},
   "outputs": [
    {
     "data": {
      "image/png": "[encoded data removed]",
      "text/plain": [
       "<Figure size 1080x360 with 1 Axes>"
      ]
     },
     "metadata": {},
     "output_type": "display_data"
    },
    {
     "name": "stdout",
     "output_type": "stream",
     "text": [
      "accuracy score 0.7842641328867318\n",
      "roc_auc_score 0.7581556963268671\n",
      "log loss score 7.451352352837588\n",
      "zero_one_loss score 0.2157358671132682\n",
      "confusion_matrix [[3540 1820]\n",
      " [1336 7933]]\n",
      "             precision    recall  f1-score   support\n",
      "\n",
      "          0       0.73      0.66      0.69      5360\n",
      "          1       0.81      0.86      0.83      9269\n",
      "\n",
      "avg / total       0.78      0.78      0.78     14629\n",
      "\n"
     ]
    }
   ],
   "source": [
    "from sklearn.ensemble import AdaBoostClassifier,GradientBoostingClassifier,RandomForestClassifier\n",
    "\n",
    "clf=AdaBoostClassifier()\n",
    "clf.fit(X,y)\n",
    "imp_features=clf.feature_importances_\n",
    "feature_plot(imp_features,X)\n",
    "pred=clf.predict(X)\n",
    "classification_metric(y,pred)"
   ]
  },
  {
   "cell_type": "code",
   "execution_count": 256,
   "metadata": {},
   "outputs": [
    {
     "data": {
      "image/png": "[encoded data removed]",
      "text/plain": [
       "<Figure size 1080x360 with 1 Axes>"
      ]
     },
     "metadata": {},
     "output_type": "display_data"
    },
    {
     "name": "stdout",
     "output_type": "stream",
     "text": [
      "accuracy score 0.7994394695467906\n",
      "roc_auc_score 0.7713506484461927\n",
      "log loss score 6.92721309880857\n",
      "zero_one_loss score 0.20056053045320943\n",
      "confusion_matrix [[3571 1789]\n",
      " [1145 8124]]\n",
      "             precision    recall  f1-score   support\n",
      "\n",
      "          0       0.76      0.67      0.71      5360\n",
      "          1       0.82      0.88      0.85      9269\n",
      "\n",
      "avg / total       0.80      0.80      0.80     14629\n",
      "\n"
     ]
    }
   ],
   "source": [
    "clf=GradientBoostingClassifier()\n",
    "clf.fit(X,y)\n",
    "imp_features=clf.feature_importances_\n",
    "feature_plot(imp_features,X)\n",
    "pred=clf.predict(X)\n",
    "classification_metric(y,pred)"
   ]
  },
  {
   "cell_type": "code",
   "execution_count": 234,
   "metadata": {},
   "outputs": [
    {
     "data": {
      "image/png": "[encoded data removed]",
      "text/plain": [
       "<Figure size 1080x360 with 1 Axes>"
      ]
     },
     "metadata": {},
     "output_type": "display_data"
    },
    {
     "name": "stdout",
     "output_type": "stream",
     "text": [
      "accuracy score 0.9855765944357099\n",
      "roc_auc_score 0.9852740458082873\n",
      "log loss score 0.49817142560036465\n",
      "zero_one_loss score 0.014423405564290115\n",
      "confusion_matrix [[5275   85]\n",
      " [ 126 9143]]\n",
      "             precision    recall  f1-score   support\n",
      "\n",
      "          0       0.98      0.98      0.98      5360\n",
      "          1       0.99      0.99      0.99      9269\n",
      "\n",
      "avg / total       0.99      0.99      0.99     14629\n",
      "\n"
     ]
    }
   ],
   "source": [
    "clf=RandomForestClassifier()\n",
    "clf.fit(X,y)\n",
    "imp_features=clf.feature_importances_\n",
    "feature_plot(imp_features,X)\n",
    "pred=clf.predict(X)\n",
    "classification_metric(y,pred)"
   ]
  },
  {
   "cell_type": "code",
   "execution_count": 236,
   "metadata": {},
   "outputs": [
    {
     "name": "stdout",
     "output_type": "stream",
     "text": [
      "accuracy score 0.7686261107313739\n",
      "roc_auc_score 0.731997782996164\n",
      "log loss score 7.991489898918887\n",
      "zero_one_loss score 0.23137388926862612\n",
      "confusion_matrix [[ 638  435]\n",
      " [ 242 1611]]\n",
      "             precision    recall  f1-score   support\n",
      "\n",
      "          0       0.72      0.59      0.65      1073\n",
      "          1       0.79      0.87      0.83      1853\n",
      "\n",
      "avg / total       0.76      0.77      0.76      2926\n",
      "\n"
     ]
    }
   ],
   "source": [
    "from sklearn.linear_model import LogisticRegression\n",
    "clf=LogisticRegression()\n",
    "clf.fit(X_train,y_train)\n",
    "pred=clf.predict(X_test)\n",
    "classification_metric(y_test,pred)"
   ]
  },
  {
   "cell_type": "code",
   "execution_count": 219,
   "metadata": {},
   "outputs": [
    {
     "name": "stdout",
     "output_type": "stream",
     "text": [
      "accuracy score 0.7882152006831767\n",
      "roc_auc_score 0.7596795538330655\n",
      "log loss score 7.314888203894183\n",
      "zero_one_loss score 0.21178479931682326\n",
      "confusion_matrix [[279 147]\n",
      " [101 644]]\n",
      "             precision    recall  f1-score   support\n",
      "\n",
      "          0       0.73      0.65      0.69       426\n",
      "          1       0.81      0.86      0.84       745\n",
      "\n",
      "avg / total       0.79      0.79      0.79      1171\n",
      "\n",
      "accuracy score 0.7822374039282665\n",
      "roc_auc_score 0.749979326883321\n",
      "log loss score 7.5213567206782095\n",
      "zero_one_loss score 0.21776259607173354\n",
      "confusion_matrix [[266 151]\n",
      " [104 650]]\n",
      "             precision    recall  f1-score   support\n",
      "\n",
      "          0       0.72      0.64      0.68       417\n",
      "          1       0.81      0.86      0.84       754\n",
      "\n",
      "avg / total       0.78      0.78      0.78      1171\n",
      "\n",
      "accuracy score 0.8018787361229718\n",
      "roc_auc_score 0.781728874106923\n",
      "log loss score 6.842960263078262\n",
      "zero_one_loss score 0.19812126387702822\n",
      "confusion_matrix [[313 138]\n",
      " [ 94 626]]\n",
      "             precision    recall  f1-score   support\n",
      "\n",
      "          0       0.77      0.69      0.73       451\n",
      "          1       0.82      0.87      0.84       720\n",
      "\n",
      "avg / total       0.80      0.80      0.80      1171\n",
      "\n",
      "accuracy score 0.7871794871794872\n",
      "roc_auc_score 0.7517619047619047\n",
      "log loss score 7.350667400965215\n",
      "zero_one_loss score 0.21282051282051284\n",
      "confusion_matrix [[263 157]\n",
      " [ 92 658]]\n",
      "             precision    recall  f1-score   support\n",
      "\n",
      "          0       0.74      0.63      0.68       420\n",
      "          1       0.81      0.88      0.84       750\n",
      "\n",
      "avg / total       0.78      0.79      0.78      1170\n",
      "\n",
      "accuracy score 0.7931623931623931\n",
      "roc_auc_score 0.7660409765672924\n",
      "log loss score 7.14401626461396\n",
      "zero_one_loss score 0.20683760683760688\n",
      "confusion_matrix [[285 144]\n",
      " [ 98 643]]\n",
      "             precision    recall  f1-score   support\n",
      "\n",
      "          0       0.74      0.66      0.70       429\n",
      "          1       0.82      0.87      0.84       741\n",
      "\n",
      "avg / total       0.79      0.79      0.79      1170\n",
      "\n",
      "accuracy score 0.7846153846153846\n",
      "roc_auc_score 0.7546753246753246\n",
      "log loss score 7.439214014331622\n",
      "zero_one_loss score 0.2153846153846154\n",
      "confusion_matrix [[264 136]\n",
      " [116 654]]\n",
      "             precision    recall  f1-score   support\n",
      "\n",
      "          0       0.69      0.66      0.68       400\n",
      "          1       0.83      0.85      0.84       770\n",
      "\n",
      "avg / total       0.78      0.78      0.78      1170\n",
      "\n",
      "accuracy score 0.8017094017094017\n",
      "roc_auc_score 0.7729028068718566\n",
      "log loss score 6.848816464646477\n",
      "zero_one_loss score 0.19829059829059825\n",
      "confusion_matrix [[288 149]\n",
      " [ 83 650]]\n",
      "             precision    recall  f1-score   support\n",
      "\n",
      "          0       0.78      0.66      0.71       437\n",
      "          1       0.81      0.89      0.85       733\n",
      "\n",
      "avg / total       0.80      0.80      0.80      1170\n",
      "\n",
      "accuracy score 0.7777777777777778\n",
      "roc_auc_score 0.7495590828924161\n",
      "log loss score 7.675393673387212\n",
      "zero_one_loss score 0.2222222222222222\n",
      "confusion_matrix [[280 161]\n",
      " [ 99 630]]\n",
      "             precision    recall  f1-score   support\n",
      "\n",
      "          0       0.74      0.63      0.68       441\n",
      "          1       0.80      0.86      0.83       729\n",
      "\n",
      "avg / total       0.77      0.78      0.77      1170\n",
      "\n",
      "accuracy score 0.7811965811965812\n",
      "roc_auc_score 0.7490136071627295\n",
      "log loss score 7.557308969483972\n",
      "zero_one_loss score 0.2188034188034188\n",
      "confusion_matrix [[268 156]\n",
      " [100 646]]\n",
      "             precision    recall  f1-score   support\n",
      "\n",
      "          0       0.73      0.63      0.68       424\n",
      "          1       0.81      0.87      0.83       746\n",
      "\n",
      "avg / total       0.78      0.78      0.78      1170\n",
      "\n",
      "accuracy score 0.7957264957264957\n",
      "roc_auc_score 0.7691903684550743\n",
      "log loss score 7.055459399998447\n",
      "zero_one_loss score 0.20427350427350432\n",
      "confusion_matrix [[292 150]\n",
      " [ 89 639]]\n",
      "             precision    recall  f1-score   support\n",
      "\n",
      "          0       0.77      0.66      0.71       442\n",
      "          1       0.81      0.88      0.84       728\n",
      "\n",
      "avg / total       0.79      0.80      0.79      1170\n",
      "\n",
      "[0 1 1 ... 0 1 0]\n",
      "accuracy score 0.7829801777170198\n",
      "roc_auc_score 0.7523536805130493\n",
      "log loss score 7.495705418376155\n",
      "zero_one_loss score 0.21701982228298022\n",
      "confusion_matrix [[ 684  389]\n",
      " [ 246 1607]]\n",
      "             precision    recall  f1-score   support\n",
      "\n",
      "          0       0.74      0.64      0.68      1073\n",
      "          1       0.81      0.87      0.84      1853\n",
      "\n",
      "avg / total       0.78      0.78      0.78      2926\n",
      "\n"
     ]
    }
   ],
   "source": [
    "from sklearn.model_selection import KFold\n",
    "clf=GradientBoostingClassifier(random_state=random_state)\n",
    "cv=KFold(n_splits=10, random_state=random_state, shuffle=True)\n",
    "dis_list=[]\n",
    "for train, test in cv.split(X_train, y_train):\n",
    "        dis_list=test\n",
    "        clf.fit(X_train.iloc[train], y_train.iloc[train])\n",
    "        \n",
    "        pred=clf.predict(X_train.iloc[test])\n",
    "        classification_metric(y_train.iloc[test],pred)\n",
    "    \n",
    "    \n",
    "pred=clf.predict(X_test)\n",
    "#classification_metric(y_test,pred)\n",
    "print(pred)\n",
    "classification_metric(y_test,pred)"
   ]
  },
  {
   "cell_type": "code",
   "execution_count": null,
   "metadata": {},
   "outputs": [],
   "source": []
  }
 ],
 "metadata": {
  "kernelspec": {
   "display_name": "Python 3",
   "language": "python",
   "name": "python3"
  },
  "language_info": {
   "codemirror_mode": {
    "name": "ipython",
    "version": 3
   },
   "file_extension": ".py",
   "mimetype": "text/x-python",
   "name": "python",
   "nbconvert_exporter": "python",
   "pygments_lexer": "ipython3",
   "version": "3.6.1"
  }
 },
 "nbformat": 4,
 "nbformat_minor": 2
}
